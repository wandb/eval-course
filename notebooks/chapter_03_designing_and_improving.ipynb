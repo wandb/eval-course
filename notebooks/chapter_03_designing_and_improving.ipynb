{
  "cells": [
    {
      "cell_type": "markdown",
      "metadata": {
        "id": "PP02G8yBw9Gx"
      },
      "source": [
        "# Chapter 3: Designing LLM Evaluators\n",
        "\n",
        "This code notebook is part of Chapter 3 lesson of the [LLM Apps: Evaluation course](https://wandb.ai/site/courses/evals/).\n",
        "\n",
        "<a target=\"_blank\" href=\"https://colab.research.google.com/github/wandb/eval-course/blob/main/notebooks/chapter_03_designing_and_improving.ipynb\">\n",
        "  <img src=\"https://colab.research.google.com/assets/colab-badge.svg\" alt=\"Open In Colab\"/>\n",
        "</a>\n",
        "<!--- @wandbcode{eval-course-03} -->\n",
        "\n",
        "LLM evaluators utilize large language models as flexible, scalable evaluation tools, ideal for assessing complex and subjective tasks where traditional code-based methods may fall short. These evaluators can adapt to various contexts and criteria, making them valuable for evaluating nuanced outputs like creative writing, dialogue coherence, or complex problem-solving.\n",
        "\n",
        "In this section, we’ll explore how to build an LLM evaluator from scratch. We’ll examine the essential components of an LLM evaluator and key considerations, such as defining clear criteria, designing effective prompts, and handling subjective judgments consistently."
      ]
    },
    {
      "cell_type": "markdown",
      "metadata": {
        "id": "RiFmE1Bnw61d"
      },
      "source": [
        "## Setup\n",
        "\n",
        "Run the code cells below to setup your colab notebook."
      ]
    },
    {
      "cell_type": "code",
      "execution_count": null,
      "metadata": {
        "id": "_VARBCEV52sk"
      },
      "outputs": [],
      "source": [
        "try:\n",
        "    import google.colab\n",
        "    IN_COLAB = True\n",
        "except ImportError:\n",
        "    IN_COLAB = False\n",
        "\n",
        "if IN_COLAB:\n",
        "    !git clone --branch main https://github.com/wandb/eval-course\n",
        "    %cd eval-course\n",
        "    %cd notebooks\n",
        "else:\n",
        "    print(\"Not running in Google Colab. Skipping git clone.\")\n",
        "\n",
        "!pip install -qq google-generativeai weave"
      ]
    },
    {
      "cell_type": "code",
      "execution_count": null,
      "metadata": {
        "id": "1Ddn8rt254IF"
      },
      "outputs": [],
      "source": [
        "import os\n",
        "import re\n",
        "import getpass\n",
        "import weave\n",
        "import pandas as pd\n",
        "\n",
        "# utility script\n",
        "from utils.llm_client import LLMClient\n",
        "\n",
        "import nest_asyncio\n",
        "nest_asyncio.apply()"
      ]
    },
    {
      "cell_type": "code",
      "execution_count": null,
      "metadata": {
        "id": "2jXshAEO55gZ"
      },
      "outputs": [],
      "source": [
        "import google.generativeai as genai\n",
        "\n",
        "os.environ[\"GOOGLE_API_KEY\"] = getpass.getpass(\"Please enter your GOOGLE API KEY with Gemini acccess: \")"
      ]
    },
    {
      "cell_type": "code",
      "execution_count": null,
      "metadata": {
        "id": "4DpDdDvb57Ik"
      },
      "outputs": [],
      "source": [
        "# initialize weave for tracing and evaluation\n",
        "weave_client = weave.init(project_name=\"eval-course\")"
      ]
    },
    {
      "cell_type": "markdown",
      "metadata": {
        "id": "WokAh_eI6NiT"
      },
      "source": [
        "## Essay Writer\n",
        "\n",
        "Imagine you’re using an LLM to generate essays based on query in natural language.\n",
        "\n",
        "LLM based essay write:\n",
        "\n",
        "- Input: You start with a query, which is passed to an LLM-based essay writer.\n",
        "- Output: The model generates an essay in response.\n",
        "\n",
        "To evaluate the quality of these generated essays you already have a dataset where human evaluators have scored the essays based on specific criteria. More on it later.\n",
        "\n",
        "Now, instead of relying solely on human evaluators, you want to build an LLM-based evaluator that can assess these essays automatically. This LLM evaluator should aim to mimic the judgments of human evaluators as closely as possible.\n"
      ]
    },
    {
      "cell_type": "markdown",
      "metadata": {
        "id": "ILpQiVsA6Pbo"
      },
      "source": [
        "### Part 1: Prompt\n",
        "\n",
        "An effective prompt for an LLM evaluator, or “judge,” requires careful design. This prompt typically has three essential components:\n",
        "\n",
        "* **Task Description**: The task description sets the context for the LLM, clearly defining its role as an evaluator. This part should specify the nature of the content to be evaluated and the evaluator’s objective. For example, you might use:\n",
        "\n",
        "  “*You are an evaluator tasked with assessing the fluency, coherence, and relevance of an essay based on a given query.*”\n",
        "  \n",
        "  This description helps the LLM understand its role and narrows its focus on evaluation, rather than content generation.\n",
        "\n",
        "* **Measuring Criteria**: The criteria define what aspects of the content the LLM should evaluate. This could include specific elements such as fluency, grammar, factual accuracy, coherence, adherence to the prompt, etc. Clear criteria help the LLM understand what’s important and guide it to focus on the same standards human evaluators would. For example:\n",
        "\n",
        "  “*The criteria for evaluation are: coherence (how logically ideas flow), grammar (correctness of language), factual accuracy (accuracy of statements), and adherence to the query prompt.*”\n",
        "  \n",
        "  These instructions give the LLM a structured lens through which to assess each aspect of the output.\n",
        "\n",
        "* **Scoring Rubric**: The scoring rubric provides detailed guidelines on how to rate each criterion. This could include specific rating scales (e.g.,Likert Scale) or qualitative labels (e.g., “Excellent,” “Good,” “Needs Improvement”) that the LLM can use to categorize its evaluation. It’s often helpful to avoid numeric scores unless you’re confident the model can differentiate levels reliably. For instance:\n",
        "\n",
        " “*For each criterion, evaluate as follows: ‘Excellent’ if it fully meets expectations, ‘Satisfactory’ if it meets most expectations, and ‘Needs Improvement’ if it falls short.*”\n",
        "\n",
        " This rubric ensures consistency and makes the evaluation more interpretable by breaking down the scoring process."
      ]
    },
    {
      "cell_type": "code",
      "execution_count": null,
      "metadata": {
        "id": "Tv_g9FHz6DM3"
      },
      "outputs": [],
      "source": [
        "JUDGE_PROMPT = \"\"\"You are an expert essay evaluator.\n",
        "Please evaluate the following essay according to the \"Holistic Rating for Source-Based Writing\" rubric.\n",
        "\n",
        "The essay is either \"Excellent\" or \"Bad\".\n",
        "First give a reason for your judgement and return the result as a valid JSON object as shown below:\n",
        "\n",
        "Examples:\n",
        "\n",
        "```json\n",
        "{{\"score\": \"Excellent\", \"reason\": \"The essay demonstrates a clear understanding of the source text and effectively uses it to support its points.\"}}\n",
        "```\n",
        "\n",
        "```json\n",
        "{{\"score\": \"Bad\", \"reason\": The essay is not clear and have grammatical errors\"}}\n",
        "```\n",
        "\n",
        "Essay:\n",
        "{full_text}\n",
        "\"\"\""
      ]
    },
    {
      "cell_type": "markdown",
      "metadata": {
        "id": "QTU4-FYQ6Tk-"
      },
      "source": [
        "### Part 2: The Evaluator\n",
        "\n",
        "**[LLM SYSTEM] –> *system output* –> [EVALUATOR] –> evaluator output**\n",
        "\n",
        "The LLM evaluator operates by taking in the prompt for evaluation (system prompt), initializing the LLM, and passing the system prompt along with the generated content—such as an essay—to the LLM for assessment.\n",
        "\n",
        "We expect the evaluator to return a judgement which can be in the form of raw text or a JSON object.\n",
        "\n",
        "Here we are using the `weave.Model` class which under the hood is a Pydantic `BaseModel`. By structuring your code to be compatible with this API, you benefit from a structured way to version your evaluator so you can more systematically keep track of your evaluations.\n",
        "\n",
        "In this case, we are passing the `full_text` to the evaluator and expect it to return a JSON object with `score` and `reason` keys."
      ]
    },
    {
      "cell_type": "code",
      "execution_count": null,
      "metadata": {
        "id": "XZSlyMH_6bpy"
      },
      "outputs": [],
      "source": [
        "MODEL = \"gemini-2.0-flash-exp\"\n",
        "MODEL_CLIENT = \"gemini\""
      ]
    },
    {
      "cell_type": "code",
      "execution_count": null,
      "metadata": {
        "id": "qMpqCXFP6SDS"
      },
      "outputs": [],
      "source": [
        "from weave import Model, Evaluation\n",
        "import asyncio\n",
        "import json\n",
        "\n",
        "\n",
        "@weave.op()\n",
        "def parse_json(result: str) -> dict:\n",
        "    if \"```json\" in result:\n",
        "        result = result.split(\"```json\\n\")[1].split(\"\\n```\")[0]\n",
        "    # Clean up any remaining markdown formatting\n",
        "    result = result.strip()\n",
        "    return json.loads(result)\n",
        "\n",
        "\n",
        "class EssayEvaluator(Model):\n",
        "    model: LLMClient = LLMClient(model_name=MODEL, client_type=MODEL_CLIENT)\n",
        "    judge_prompt: str = JUDGE_PROMPT\n",
        "\n",
        "    @weave.op()\n",
        "    def predict(self, full_text: str) -> dict:\n",
        "        response = self.model.predict(self.judge_prompt.format(full_text=full_text))\n",
        "        try:\n",
        "            result = parse_json(response)\n",
        "            return result\n",
        "        except:\n",
        "            return {\"score\": 0, \"reason\": \"Failed to parse JSON\"}  # Default to lowest score if parsing fails\n",
        "\n",
        "# Initialize evaluator\n",
        "essay_evaluator = EssayEvaluator()"
      ]
    },
    {
      "cell_type": "markdown",
      "metadata": {
        "id": "_jc19Mvv6jIa"
      },
      "source": [
        "### Part 3: The evaluation dataset\n",
        "\n",
        "To simulate this imaginary scenario, we use a small subset of the `train.csv` file from the \"[Learning Agency Lab - Automated Essay Scoring 2.0](https://www.kaggle.com/competitions/learning-agency-lab-automated-essay-scoring-2/data?select=train.csv)\" Kaggle competition.\n",
        "\n",
        "Specifically, we have two columns of interest: `full_text` and `score`. The `full_text` should be essay generated from our LLM based essay writer. The `score` is the score given by the human evaluators.\n",
        "\n",
        "Each essay was scored on a scale of 1 to 6 using the \"[Holistic Rating for Source-Based Writing](https://storage.googleapis.com/kaggle-forum-message-attachments/2733927/20538/Rubric_%20Holistic%20Essay%20Scoring.pdf)\" code book. Scores 1-3 are considered \"Bad\" while the scores 4-6 are considered \"Excellent\". We are doing this for simplifying the interpretation of evaluation results. *Later we will use the actual scores.*\n",
        "\n",
        "\n",
        "**What if I have to collect evaluation data in a similar scenario?**\n",
        "\n",
        "Here are a few suggestions for a similar application (free-form generated content):\n",
        "\n",
        "- **query-generated content**: start by collecting the query and the generated content. you can manually evaluate from here or do some interesting analysis to create synthetic evaluation set. We did something like this for our [wandbot](https://wandb.ai/wandbot/wandbot-eval/reports/How-to-Evaluate-an-LLM-Part-1-Building-an-Evaluation-Dataset-for-our-LLM-System--Vmlldzo1NTAwNTcy) (RAG application).\n",
        "\n",
        "- **Read time tracking**: To understand user engagement, track the read time for each piece of generated content. For long-form outputs, you might want to record additional data such as scroll depth or even pauses in reading.\n",
        "\n",
        "- **Track copied text**: Content that meets user needs and is of high quality may often be copied by the user. By logging instances of copied text, you can capture a direct measure of usefulness. Over time, this information helps build a dataset that reflects user interest and engagement, giving you a unique perspective on content effectiveness.\n"
      ]
    },
    {
      "cell_type": "code",
      "execution_count": null,
      "metadata": {
        "id": "ObxVFihl6fmk"
      },
      "outputs": [],
      "source": [
        "# Load the dataset\n",
        "essay_scorer_small = weave.ref(\n",
        "    'weave:///eval-course/eval-course-dev/object/essay_scorer_small:8slEUgNXWoVhHAXksKXZPu5faasHshFksLXiD2haPSk'\n",
        ").get()"
      ]
    },
    {
      "cell_type": "markdown",
      "metadata": {
        "id": "UzcVMZ3b61Hz"
      },
      "source": [
        "### Part 4: The evaluation metric\n",
        "\n",
        "We want to evaluate the evaluator's performance using the `score` column from the dataset - which contains human-assigned ratings. We are using the `exact_match` metric to check if the evaluator's prediction matches the human score.\n",
        "\n",
        "Depending on the use case the metrics might change but in practice they are usually simple ad straightforward.\n",
        "\n",
        "The `weave.op()` decorator allows us to track the metric as an operation in the weave graph. Here are a few [predefined metrics](https://weave-docs.wandb.ai/guides/evaluation/scorers#predefined-scorers) to take inspiration from."
      ]
    },
    {
      "cell_type": "code",
      "execution_count": null,
      "metadata": {
        "id": "gYg3qmWx6sUe"
      },
      "outputs": [],
      "source": [
        "# Define a simple binary exact match metric\n",
        "@weave.op()\n",
        "def exact_match(score: int, output: dict) -> bool:\n",
        "    \"\"\"Check if predicted score matches human score\"\"\"\n",
        "    if isinstance(output[\"score\"], str):\n",
        "      if score >= 1 and score <=3:\n",
        "          return output[\"score\"] == \"Bad\"\n",
        "      else:\n",
        "          return output[\"score\"] == \"Excellent\"\n",
        "    else:\n",
        "      return output[\"score\"] == score"
      ]
    },
    {
      "cell_type": "markdown",
      "metadata": {
        "id": "ha2BvJ7K64mJ"
      },
      "source": [
        "### Part 5: The evaluation\n",
        "\n",
        "Here are some essential features that make an evaluation system effective:\n",
        "\n",
        "1. Asynchronous Processing\n",
        "2. Trials and aggregated results\n",
        "3. Powerful visualization\n",
        "4. Evaluation comparison and insights"
      ]
    },
    {
      "cell_type": "code",
      "execution_count": null,
      "metadata": {
        "id": "KPqCPG_w620I"
      },
      "outputs": [],
      "source": [
        "# Create evaluation\n",
        "evaluation = Evaluation(\n",
        "    dataset=essay_scorer_small,\n",
        "    scorers=[exact_match]\n",
        ")\n",
        "\n",
        "# Run evaluation\n",
        "asyncio.run(evaluation.evaluate(essay_evaluator))"
      ]
    },
    {
      "cell_type": "markdown",
      "metadata": {
        "id": "h_rae2TC7i_h"
      },
      "source": [
        "### Structured output (Optional)\n",
        "\n",
        "Most frontier LLM providers support structured outputs. Using this forces the LLM to return/predict a specific schema.\n",
        "\n",
        "Note: If you have complex \"reasoning\" to be done via your LLM evaluator, you should use two API calls. Use the first API call to do the reasoning and use the second API call to output the structured response. Reference: https://arxiv.org/abs/2408.02442v1\n",
        "\n",
        "Learn more about structured outputs in this free course by Jason Liu: https://www.wandb.courses/courses/steering-language-models"
      ]
    },
    {
      "cell_type": "code",
      "execution_count": null,
      "metadata": {
        "id": "5NKtwJ9C7T1U"
      },
      "outputs": [],
      "source": [
        "import typing\n",
        "from pydantic import BaseModel\n",
        "\n",
        "JUDGE_PROMPT = \"\"\"You are an expert essay evaluator.\n",
        "Please evaluate the following essay according to the \"Holistic Rating for Source-Based Writing\" rubric.\n",
        "\n",
        "The essay is either \"Excellent\" or \"Bad\". Also give a reason for your judgement.\n",
        "Essay:\n",
        "{full_text}\n",
        "\"\"\"\n",
        "\n",
        "class Judgement(BaseModel):\n",
        "    reason: str\n",
        "    score: str\n",
        "\n",
        "\n",
        "class EssayEvaluator(Model):\n",
        "    model: LLMClient = LLMClient(model_name=MODEL, client_type=MODEL_CLIENT)\n",
        "    judge_prompt: str = JUDGE_PROMPT\n",
        "    response_schema: typing.Type[BaseModel] = Judgement\n",
        "\n",
        "    @weave.op()\n",
        "    def predict(self, full_text: str) -> dict:\n",
        "        response = self.model.predict(\n",
        "            self.judge_prompt.format(full_text=full_text),\n",
        "            schema=self.response_schema,\n",
        "        )\n",
        "        try:\n",
        "            return response[0]\n",
        "        except:\n",
        "            return {\"score\": 0, \"reason\": \"Failed to parse JSON\"}\n",
        "\n",
        "# Initialize evaluator\n",
        "essay_evaluator = EssayEvaluator()\n",
        "\n",
        "# Run evaluation\n",
        "asyncio.run(evaluation.evaluate(essay_evaluator))"
      ]
    },
    {
      "cell_type": "markdown",
      "metadata": {
        "id": "rbYdxTLs9WiP"
      },
      "source": [
        "# Aligning LLM evaluators with human evaluators\n",
        "\n",
        "One of the most important aspects of building an LLM evaluator is to align it with human evaluators. This ensures that the evaluator is consistent with human beliefs ensuring higher confidence in the evaluator's predictions.\n",
        "\n",
        "### Alignment is meta evaluation\n",
        "\n",
        "A very important distinction, we need to make is that alignment is a way to **evaluate** the **evaluation system** itself. In this case the evaluation system is our *LLM Evaluator*.\n",
        "\n",
        "Everytime, we talk about alignment know that the score is speaking something about the quality of LLM Evaluator.\n",
        "\n",
        "### Why do we care about alignment?\n",
        "\n",
        "Since we are using a non-deterministic machine (LLM) as the foundation of our evaluator, we need to be sure that the evaluator is as close as possible to aggregate human judgement.\n",
        "\n",
        "A high alignment score gives the confidence in accepting/auditing the quality of our LLM system."
      ]
    },
    {
      "cell_type": "markdown",
      "metadata": {
        "id": "t_-Mk4xZ9jZK"
      },
      "source": [
        "## The alignment metrics\n",
        "\n",
        "### Alignment for binary decisions\n",
        "\n",
        "#### Cohen's kappa\n",
        "\n",
        "Fundamentally a correlation metric, it can be used to evaluate the agreement between our LLM evaluator and human scores. This metric is widely used to measure inter-rater reliability, and it accounts for the possibility of agreement occurring by chance unlike other correlation metrics.\n",
        "\n",
        "**Cohen’s kappa** is a statistical measure of agreement that ranges from -1 to +1.\n",
        "\n",
        "\t•\t+1 indicates perfect agreement between the evaluator and human ratings.\n",
        "\t•\t0 represents the level of agreement expected by random chance.\n",
        "\t•\t-1 implies complete disagreement, although values below zero are rare in practice.\n",
        "\n",
        "This metric is particularly useful for evaluating classification tasks, as it provides a more robust measure of agreement than simple accuracy, especially when dealing with subjective assessments where some level of variance is expected.\n",
        "\n",
        "#### Classification metrics\n",
        "\n",
        "Your good old classification metrics like recall, precision, ROC, AUC, true positive, false positive, etc., are really strong metrics because of the ease of interpretation.\n",
        "\n",
        "### Alignment for Likert Scale style decisions\n",
        "\n",
        "When the decision is in a range (strongly agree - stongly disagree or 1-10), where the distance between ratings matters, **Kendall's tau and Spearman's rho** are more appropriate metrics because they both measure the rank order of the data. Kendall's tau focuses on whether pairs are in the same order, making it robust to outliers, while Spearman's rho is more sensitive to the size of rank differences.\n",
        "\n",
        "Similarly values of these metrics are in a range of -1 to 1.\n",
        "\n",
        "Example: If two teachers rate an essay as 4 and 3 on a 1-5 scale, Kendall’s tau  or Spearman’s rho  would recognize their close ranking, while Cohen’s kappa  would penalize them for not matching exactly.\n",
        "\n",
        "### Why exact match cannot be used as an alignment score?\n",
        "\n",
        "Exact match is actually computing the accuracy (comparing ground truth to predicted judgement). It treats all the classes as equal i.e, it is a coarse-grained measure of quality.\n",
        "\n",
        "Also, real world distributions are not balanced making this is bad alignment metric."
      ]
    },
    {
      "cell_type": "code",
      "execution_count": null,
      "metadata": {
        "id": "ZS4rAT2a9DxI"
      },
      "outputs": [],
      "source": [
        "from utils.utils import get_evaluation_predictions\n",
        "\n",
        "# Get evaluation predictions\n",
        "# Put in your own evaluation Call ID 👇\n",
        "eval_df = get_evaluation_predictions(\n",
        "    weave_client, eval_call_id=\"01942b5f-2c3a-7ce1-a716-7209bb2acd8f\"\n",
        ")\n",
        "\n",
        "eval_df.head()"
      ]
    },
    {
      "cell_type": "code",
      "execution_count": null,
      "metadata": {
        "id": "iaDw2AHn9wvs"
      },
      "outputs": [],
      "source": [
        "from utils.utils import calculate_cohen_kappa\n",
        "\n",
        "# Calculate Cohen's Kappa score\n",
        "kappa = calculate_cohen_kappa(eval_df, labels=[])\n",
        "print(f\"Alignment between human and LLM evaluator: {kappa:.3f}\")"
      ]
    },
    {
      "cell_type": "markdown",
      "metadata": {
        "id": "w8lyhJeR0cEV"
      },
      "source": [
        " Cohen kappa values of 0.21 - 0.40 can be interpreted as fair agreement while 0.41 - 0.60 suggest moderate agreement"
      ]
    },
    {
      "cell_type": "markdown",
      "metadata": {
        "id": "M3FzBn76a9As"
      },
      "source": [
        "## A single binary based evaluator will not capture the full extent of an evaluation task!\n",
        "\n",
        "Evaluating a free-form content like essay needs to be evaluated across multiple axis.\n",
        "\n",
        "A single \"Bad\" and \"Excellent\" judgement about the essay doesn't incite confidence in the quality (in this usecase). In practice, we need multiple evaluators that will access the essay for different attributes like - grammar, logical structure, pacing, flow, etc. These are all subjective criterias or abstract concepts that are hard to capture using programmatic evaluation. These evaluators looking at different attributes can have a binary decision rubric.\n",
        "\n",
        "An aggregate of the judgements from different evaluators can determine the quality of the essay.\n",
        "\n",
        "### Why binary evaluators?\n",
        "\n",
        "If we can convert abstract concepts into mutliple \"yes\"/\"no\" objectives that a human can rate on, we **should build LLM based binary evaluators**.\n",
        "\n",
        "The reason is ease of interpretation especially from the lens of alignment. False positive rate or recall can help coming up with actionable items.\n",
        "\n",
        "### We are stuck with Likert scale based evaluator :)\n",
        "\n",
        "In real life, the decision to design the evaluator can also be determined based on available human evaluation (annotations can be passively generated like read time, scroll depth, etc., or actively generated using a code book.) In our case, the essays are already annotated in a range of 1-6 (Likert Scale).\n",
        "\n",
        "Let's see what evaluation score we get and the alignment score as well. We will be using the Kendall's tau alignment metric going forward."
      ]
    },
    {
      "cell_type": "code",
      "execution_count": null,
      "metadata": {
        "id": "HfnH91pepydB"
      },
      "outputs": [],
      "source": [
        "JUDGE_PROMPT = \"\"\"You are an expert essay evaluator.\n",
        "Please evaluate the following essay according to the \"Holistic Rating for Source-Based Writing\" rubric.\n",
        "\n",
        "The scoring should be done in a range of 1-6 where 1 is a bad essay and 6 is an excellent essay.\n",
        "Also give a reason for your judgement.\n",
        "\n",
        "Essay:\n",
        "{full_text}\n",
        "\"\"\"\n",
        "\n",
        "class Judgement(BaseModel):\n",
        "    reason: str\n",
        "    score: int\n",
        "\n",
        "# Initialize evaluator\n",
        "essay_evaluator = EssayEvaluator(\n",
        "    judge_prompt=JUDGE_PROMPT, response_schema=Judgement\n",
        ")\n",
        "\n",
        "# Run evaluation\n",
        "asyncio.run(evaluation.evaluate(essay_evaluator))"
      ]
    },
    {
      "cell_type": "code",
      "execution_count": null,
      "metadata": {
        "id": "-XOI9u1lbF75"
      },
      "outputs": [],
      "source": [
        "from utils.utils import calculate_kendall_tau\n",
        "\n",
        "# Put in your own evaluation Call ID 👇\n",
        "eval_df = get_evaluation_predictions(\n",
        "    weave_client,\n",
        "    \"01942b62-2dd3-7703-b7e9-1aa7cb2597a0\"\n",
        ")\n",
        "\n",
        "# Calculate Kendell's tau score\n",
        "tau = calculate_kendall_tau(eval_df)\n",
        "\n",
        "print(f\"Alignment between human and LLM evaluator: {tau:.3f}\")"
      ]
    },
    {
      "cell_type": "markdown",
      "metadata": {
        "id": "qpJNcino2i9r"
      },
      "source": [
        "![image.png](data:image/png;base64,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)"
      ]
    },
    {
      "cell_type": "markdown",
      "metadata": {
        "id": "cjkhgRql96Qw"
      },
      "source": [
        "# Improving the LLM evaluator\n",
        "\n",
        "## Part 1: Improve the criteria definition\n",
        "\n",
        "Here we will improve the evaluator by improving the criteria used to evaluate the essays. Since the human annotators used the [Holistic Rating for Source-Based Writing](https://storage.googleapis.com/kaggle-forum-message-attachments/2733927/20538/Rubric_%20Holistic%20Essay%20Scoring.pdf)\" code book we will use similar criteria to evaluate the essays.\n"
      ]
    },
    {
      "cell_type": "code",
      "execution_count": null,
      "metadata": {
        "id": "i8wRp3Ue93bV"
      },
      "outputs": [],
      "source": [
        "JUDGE_PROMPT = \"\"\"You are an expert essay evaluator.\n",
        "Please evaluate the following essay according to the \"Holistic Rating for Source-Based Writing\" rubric.\n",
        "\n",
        "The scoring should be done in a range of 1-6 where a score of 1 represents minimal mastery,while a score\n",
        "of 6 reflects outstanding performance. You are given a detailed scoring guideline below.\n",
        "\n",
        "## SCORING CRITERIA:\n",
        "\n",
        "```\n",
        "Score 6: Demonstrates clear and consistent mastery with minor errors. Effectively and insightfully develops\n",
        "a point of view with outstanding critical thinking. Uses appropriate examples and evidence to support its stance.\n",
        "The essay is highly organized and coherent, showing smooth idea progression, skillful language use,\n",
        "and varied, accurate vocabulary. Free of significant errors in grammar and mechanics.\n",
        "\n",
        "Score 5: Shows reasonably consistent mastery with occasional errors. Develops a strong point of view with good\n",
        "critical thinking, supported by relevant examples and evidence. Generally organized and coherent,\n",
        "the essay uses language well, with appropriate vocabulary and sentence structure variety.\n",
        "Mostly free of errors in grammar and mechanics.\n",
        "\n",
        "Score 4: Demonstrates adequate mastery but has some lapses. Develops a point of view with competent critical thinking,\n",
        "supported by adequate examples and evidence. Generally organized and coherent, though may show inconsistency\n",
        "in language use or vocabulary choice. May have occasional grammar and mechanics errors.\n",
        "\n",
        "Score 3: Shows developing mastery with weaknesses, such as inconsistent critical thinking or inadequate support.\n",
        "Organization or focus may be limited, with possible lapses in coherence. Language use may be basic,\n",
        "with weak vocabulary and/or issues in sentence structure. Contains multiple grammar and mechanics errors.\n",
        "\n",
        "Score 2: Demonstrates little mastery and is flawed by vague or weak critical thinking, poor organization,\n",
        "or insufficient evidence. Language use is limited, with frequent vocabulary and sentence structure issues.\n",
        "Grammar and mechanics errors may obscure meaning.\n",
        "\n",
        "Score 1: Displays very little or no mastery. Lacks a viable point of view or relevant evidence,\n",
        "is highly disorganized or incoherent. Contains severe vocabulary and structure issues,\n",
        "with pervasive grammar and mechanics errors that obscure meaning.\n",
        "```\n",
        "\n",
        "Use the scoring criteria to first reason about the quality of the provided essay and then give a score.\n",
        "\n",
        "Essay:\n",
        "{full_text}\n",
        "\"\"\".strip()\n",
        "\n",
        "# Initialize evaluator with the new JUDGE_PROMPT\n",
        "essay_evaluator = EssayEvaluator(\n",
        "    judge_prompt=JUDGE_PROMPT, response_schema=Judgement\n",
        ")\n",
        "\n",
        "# Run evaluation\n",
        "asyncio.run(evaluation.evaluate(essay_evaluator))"
      ]
    },
    {
      "cell_type": "code",
      "execution_count": null,
      "metadata": {
        "id": "IsU7Wlid97bq"
      },
      "outputs": [],
      "source": [
        "eval_df = get_evaluation_predictions(weave_client, \"01942b63-dd5d-7ef0-8b7f-a75fe38e5e67\")\n",
        "tau = calculate_kendall_tau(eval_df)\n",
        "print(f\"Alignment between human and LLM evaluator: {tau:.3f}\")"
      ]
    },
    {
      "cell_type": "markdown",
      "metadata": {
        "id": "WNddGz4Hj2ic"
      },
      "source": [
        "## Part 2: Add few-shot examples\n",
        "\n",
        "Adding few-show examples can help the LLM evaluator understand the task better. It can help guide the LLM towards the correct answer."
      ]
    },
    {
      "cell_type": "code",
      "execution_count": null,
      "metadata": {
        "id": "HE6xiMWa97Z6"
      },
      "outputs": [],
      "source": [
        "JUDGE_PROMPT = \"\"\"You are an expert essay evaluator.\n",
        "Please evaluate the following essay according to the \"Holistic Rating for Source-Based Writing\" rubric.\n",
        "\n",
        "The scoring should be done in a range of 1-6 where a score of 1 represents minimal mastery,while a score\n",
        "of 6 reflects outstanding performance. You are given a detailed scoring guideline below.\n",
        "\n",
        "## SCORING CRITERIA:\n",
        "\n",
        "```\n",
        "Score 6: Demonstrates clear and consistent mastery with minor errors. Effectively and insightfully develops\n",
        "a point of view with outstanding critical thinking. Uses appropriate examples and evidence to support its stance.\n",
        "The essay is highly organized and coherent, showing smooth idea progression, skillful language use,\n",
        "and varied, accurate vocabulary. Free of significant errors in grammar and mechanics.\n",
        "\n",
        "Score 5: Shows reasonably consistent mastery with occasional errors. Develops a strong point of view with good\n",
        "critical thinking, supported by relevant examples and evidence. Generally organized and coherent,\n",
        "the essay uses language well, with appropriate vocabulary and sentence structure variety.\n",
        "Mostly free of errors in grammar and mechanics.\n",
        "\n",
        "Score 4: Demonstrates adequate mastery but has some lapses. Develops a point of view with competent critical thinking,\n",
        "supported by adequate examples and evidence. Generally organized and coherent, though may show inconsistency\n",
        "in language use or vocabulary choice. May have occasional grammar and mechanics errors.\n",
        "\n",
        "Score 3: Shows developing mastery with weaknesses, such as inconsistent critical thinking or inadequate support.\n",
        "Organization or focus may be limited, with possible lapses in coherence. Language use may be basic,\n",
        "with weak vocabulary and/or issues in sentence structure. Contains multiple grammar and mechanics errors.\n",
        "\n",
        "Score 2: Demonstrates little mastery and is flawed by vague or weak critical thinking, poor organization,\n",
        "or insufficient evidence. Language use is limited, with frequent vocabulary and sentence structure issues.\n",
        "Grammar and mechanics errors may obscure meaning.\n",
        "\n",
        "Score 1: Displays very little or no mastery. Lacks a viable point of view or relevant evidence,\n",
        "is highly disorganized or incoherent. Contains severe vocabulary and structure issues,\n",
        "with pervasive grammar and mechanics errors that obscure meaning.\n",
        "```\n",
        "\n",
        "## EXAMPLES:\n",
        "\n",
        "Here are a few essays and the scores given by human evaluators with a reason.\n",
        "Use these essays to guide your own evaluation decisions.\n",
        "\n",
        "{few_shot_examples}\n",
        "\n",
        "Use the scoring criteria and few examples to first reason about the quality of the provided essay and then give a score.\n",
        "\n",
        "Essay:\n",
        "{full_text}\n",
        "\"\"\".strip()"
      ]
    },
    {
      "cell_type": "code",
      "execution_count": null,
      "metadata": {
        "id": "TCFvtfUN97X_"
      },
      "outputs": [],
      "source": [
        "# load few shot examples\n",
        "\n",
        "essay_few_shot_examples = weave.ref(\n",
        "    \"weave:///eval-course/eval-course-dev/object/essay_few_shot_examples:JOwkagw7bMwqGobX1hOAIQFmQnofVEOZz7lbU54WYVw\"\n",
        ").get()\n",
        "\n",
        "few_shot_examples_str = \"\\n\\n\".join([\n",
        "    f\"Essay:\\n{row['essay']}\\n\\n{json.dumps(dict(score=row['score'], reason=row['reason']))}\"\n",
        "    for row in essay_few_shot_examples.rows\n",
        "])"
      ]
    },
    {
      "cell_type": "code",
      "execution_count": null,
      "metadata": {
        "id": "BJ-UO4OB97W9"
      },
      "outputs": [],
      "source": [
        "class EssayEvaluator(Model):\n",
        "    model: LLMClient = LLMClient(model_name=MODEL, client_type=MODEL_CLIENT)\n",
        "    judge_prompt: str = JUDGE_PROMPT\n",
        "    response_schema: typing.Type[BaseModel] = Judgement\n",
        "\n",
        "    @weave.op()\n",
        "    def predict(self, full_text: str) -> dict:\n",
        "        response = self.model.predict(\n",
        "            self.judge_prompt.format(few_shot_examples=few_shot_examples_str, full_text=full_text),\n",
        "            schema=self.response_schema,\n",
        "        )\n",
        "        try:\n",
        "            return response[0]\n",
        "        except:\n",
        "            return {\"score\": 0, \"reason\": \"Failed to parse JSON\"}"
      ]
    },
    {
      "cell_type": "code",
      "execution_count": null,
      "metadata": {
        "id": "rObPyoUp97Vw"
      },
      "outputs": [],
      "source": [
        "# Initialize evaluator with the new JUDGE_PROMPT\n",
        "essay_evaluator = EssayEvaluator()\n",
        "\n",
        "# Run evaluation\n",
        "asyncio.run(evaluation.evaluate(essay_evaluator))"
      ]
    },
    {
      "cell_type": "code",
      "execution_count": null,
      "metadata": {
        "id": "cHZJmTyIqefb"
      },
      "outputs": [],
      "source": [
        "eval_df = get_evaluation_predictions(weave_client, \"01942b66-17be-7013-a85c-389ec3f3bae3\")\n",
        "tau = calculate_kendall_tau(eval_df)\n",
        "print(f\"Alignment between human and LLM evaluator: {tau:.3f}\")"
      ]
    },
    {
      "cell_type": "code",
      "execution_count": null,
      "metadata": {
        "id": "KCMQ6FSOZtjs"
      },
      "outputs": [],
      "source": []
    }
  ],
  "metadata": {
    "colab": {
      "provenance": []
    },
    "kernelspec": {
      "display_name": "Python 3",
      "name": "python3"
    },
    "language_info": {
      "name": "python"
    }
  },
  "nbformat": 4,
  "nbformat_minor": 0
}
